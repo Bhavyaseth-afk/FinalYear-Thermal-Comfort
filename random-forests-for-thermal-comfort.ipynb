{
 "cells": [
  {
   "cell_type": "code",
   "execution_count": 1,
   "metadata": {
    "_cell_guid": "b1076dfc-b9ad-4769-8c92-a6c4dae69d19",
    "_uuid": "8f2839f25d086af736a60e9eeb907d3b93b6e0e5",
    "execution": {
     "iopub.execute_input": "2020-08-19T19:15:57.942897Z",
     "iopub.status.busy": "2020-08-19T19:15:57.942104Z",
     "iopub.status.idle": "2020-08-19T19:16:00.081592Z",
     "shell.execute_reply": "2020-08-19T19:16:00.080906Z"
    },
    "papermill": {
     "duration": 2.160532,
     "end_time": "2020-08-19T19:16:00.081724",
     "exception": false,
     "start_time": "2020-08-19T19:15:57.921192",
     "status": "completed"
    },
    "tags": []
   },
   "outputs": [
    {
     "name": "stdout",
     "output_type": "stream",
     "text": [
      "Dataset size:  1043\n"
     ]
    },
    {
     "data": {
      "text/html": [
       "<div>\n",
       "<style scoped>\n",
       "    .dataframe tbody tr th:only-of-type {\n",
       "        vertical-align: middle;\n",
       "    }\n",
       "\n",
       "    .dataframe tbody tr th {\n",
       "        vertical-align: top;\n",
       "    }\n",
       "\n",
       "    .dataframe thead th {\n",
       "        text-align: right;\n",
       "    }\n",
       "</style>\n",
       "<table border=\"1\" class=\"dataframe\">\n",
       "  <thead>\n",
       "    <tr style=\"text-align: right;\">\n",
       "      <th></th>\n",
       "      <th>Age</th>\n",
       "      <th>Sex</th>\n",
       "      <th>Clo</th>\n",
       "      <th>Met</th>\n",
       "      <th>Subject«s height (cm)</th>\n",
       "      <th>Subject«s weight (kg)</th>\n",
       "      <th>Year</th>\n",
       "      <th>Season</th>\n",
       "      <th>Koppen climate classification</th>\n",
       "      <th>Climate</th>\n",
       "      <th>City</th>\n",
       "      <th>Country</th>\n",
       "      <th>Building type</th>\n",
       "      <th>Cooling startegy_building level</th>\n",
       "      <th>Heating strategy_building level</th>\n",
       "      <th>Air temperature (C)</th>\n",
       "      <th>Outdoor monthly air temperature (C)</th>\n",
       "      <th>Thermal preference</th>\n",
       "    </tr>\n",
       "  </thead>\n",
       "  <tbody>\n",
       "    <tr>\n",
       "      <th>70371</th>\n",
       "      <td>55.0</td>\n",
       "      <td>Male</td>\n",
       "      <td>0.67</td>\n",
       "      <td>1.4</td>\n",
       "      <td>165.1</td>\n",
       "      <td>70.0</td>\n",
       "      <td>2012.0</td>\n",
       "      <td>Summer</td>\n",
       "      <td>Cwa</td>\n",
       "      <td>Monsoon-influenced humid subtropical</td>\n",
       "      <td>Delhi</td>\n",
       "      <td>India</td>\n",
       "      <td>Office</td>\n",
       "      <td>Mixed Mode</td>\n",
       "      <td>Mechanical Heating</td>\n",
       "      <td>33.9</td>\n",
       "      <td>30.9</td>\n",
       "      <td>no change</td>\n",
       "    </tr>\n",
       "    <tr>\n",
       "      <th>70372</th>\n",
       "      <td>35.0</td>\n",
       "      <td>Male</td>\n",
       "      <td>0.71</td>\n",
       "      <td>1.1</td>\n",
       "      <td>157.5</td>\n",
       "      <td>65.0</td>\n",
       "      <td>2012.0</td>\n",
       "      <td>Summer</td>\n",
       "      <td>Cwa</td>\n",
       "      <td>Monsoon-influenced humid subtropical</td>\n",
       "      <td>Delhi</td>\n",
       "      <td>India</td>\n",
       "      <td>Office</td>\n",
       "      <td>Mixed Mode</td>\n",
       "      <td>Mechanical Heating</td>\n",
       "      <td>36.8</td>\n",
       "      <td>30.9</td>\n",
       "      <td>warmer</td>\n",
       "    </tr>\n",
       "    <tr>\n",
       "      <th>70373</th>\n",
       "      <td>25.0</td>\n",
       "      <td>Female</td>\n",
       "      <td>0.60</td>\n",
       "      <td>1.1</td>\n",
       "      <td>152.4</td>\n",
       "      <td>37.0</td>\n",
       "      <td>2012.0</td>\n",
       "      <td>Summer</td>\n",
       "      <td>Cwa</td>\n",
       "      <td>Monsoon-influenced humid subtropical</td>\n",
       "      <td>Delhi</td>\n",
       "      <td>India</td>\n",
       "      <td>Office</td>\n",
       "      <td>Mixed Mode</td>\n",
       "      <td>Mechanical Heating</td>\n",
       "      <td>37.0</td>\n",
       "      <td>30.9</td>\n",
       "      <td>warmer</td>\n",
       "    </tr>\n",
       "    <tr>\n",
       "      <th>70374</th>\n",
       "      <td>35.0</td>\n",
       "      <td>Female</td>\n",
       "      <td>0.55</td>\n",
       "      <td>1.1</td>\n",
       "      <td>162.6</td>\n",
       "      <td>57.0</td>\n",
       "      <td>2012.0</td>\n",
       "      <td>Summer</td>\n",
       "      <td>Cwa</td>\n",
       "      <td>Monsoon-influenced humid subtropical</td>\n",
       "      <td>Delhi</td>\n",
       "      <td>India</td>\n",
       "      <td>Office</td>\n",
       "      <td>Mixed Mode</td>\n",
       "      <td>Mechanical Heating</td>\n",
       "      <td>37.0</td>\n",
       "      <td>30.9</td>\n",
       "      <td>warmer</td>\n",
       "    </tr>\n",
       "    <tr>\n",
       "      <th>70375</th>\n",
       "      <td>45.0</td>\n",
       "      <td>Male</td>\n",
       "      <td>0.70</td>\n",
       "      <td>1.1</td>\n",
       "      <td>167.6</td>\n",
       "      <td>62.0</td>\n",
       "      <td>2012.0</td>\n",
       "      <td>Summer</td>\n",
       "      <td>Cwa</td>\n",
       "      <td>Monsoon-influenced humid subtropical</td>\n",
       "      <td>Delhi</td>\n",
       "      <td>India</td>\n",
       "      <td>Office</td>\n",
       "      <td>Mixed Mode</td>\n",
       "      <td>Mechanical Heating</td>\n",
       "      <td>37.0</td>\n",
       "      <td>30.9</td>\n",
       "      <td>warmer</td>\n",
       "    </tr>\n",
       "  </tbody>\n",
       "</table>\n",
       "</div>"
      ],
      "text/plain": [
       "        Age     Sex   Clo  Met  Subject«s height (cm)  Subject«s weight (kg)  \\\n",
       "70371  55.0    Male  0.67  1.4                  165.1                   70.0   \n",
       "70372  35.0    Male  0.71  1.1                  157.5                   65.0   \n",
       "70373  25.0  Female  0.60  1.1                  152.4                   37.0   \n",
       "70374  35.0  Female  0.55  1.1                  162.6                   57.0   \n",
       "70375  45.0    Male  0.70  1.1                  167.6                   62.0   \n",
       "\n",
       "         Year  Season Koppen climate classification  \\\n",
       "70371  2012.0  Summer                           Cwa   \n",
       "70372  2012.0  Summer                           Cwa   \n",
       "70373  2012.0  Summer                           Cwa   \n",
       "70374  2012.0  Summer                           Cwa   \n",
       "70375  2012.0  Summer                           Cwa   \n",
       "\n",
       "                                    Climate   City Country Building type  \\\n",
       "70371  Monsoon-influenced humid subtropical  Delhi   India        Office   \n",
       "70372  Monsoon-influenced humid subtropical  Delhi   India        Office   \n",
       "70373  Monsoon-influenced humid subtropical  Delhi   India        Office   \n",
       "70374  Monsoon-influenced humid subtropical  Delhi   India        Office   \n",
       "70375  Monsoon-influenced humid subtropical  Delhi   India        Office   \n",
       "\n",
       "      Cooling startegy_building level Heating strategy_building level  \\\n",
       "70371                      Mixed Mode              Mechanical Heating   \n",
       "70372                      Mixed Mode              Mechanical Heating   \n",
       "70373                      Mixed Mode              Mechanical Heating   \n",
       "70374                      Mixed Mode              Mechanical Heating   \n",
       "70375                      Mixed Mode              Mechanical Heating   \n",
       "\n",
       "       Air temperature (C)  Outdoor monthly air temperature (C)  \\\n",
       "70371                 33.9                                 30.9   \n",
       "70372                 36.8                                 30.9   \n",
       "70373                 37.0                                 30.9   \n",
       "70374                 37.0                                 30.9   \n",
       "70375                 37.0                                 30.9   \n",
       "\n",
       "      Thermal preference  \n",
       "70371          no change  \n",
       "70372             warmer  \n",
       "70373             warmer  \n",
       "70374             warmer  \n",
       "70375             warmer  "
      ]
     },
     "execution_count": 1,
     "metadata": {},
     "output_type": "execute_result"
    }
   ],
   "source": [
    "import numpy as np \n",
    "import pandas as pd \n",
    "\n",
    "full_df= pd.read_csv('../input/ashrae-global-thermal-comfort-database-ii/ashrae_db2.01.csv', low_memory= False)\n",
    "\n",
    "#create smaller dataframe with only the person-specific features, non-person-specific features, and what we're trying to predict\n",
    "personal_feats= ['Age', 'Sex', 'Clo','Met',\"Subject«s height (cm)\", \"Subject«s weight (kg)\"]\n",
    "other_feats= ['Year', 'Season', 'Koppen climate classification', 'Climate', 'City', 'Country', 'Building type', 'Cooling startegy_building level', 'Heating strategy_building level','Air temperature (C)', 'Outdoor monthly air temperature (C)']\n",
    "label= ['Thermal preference']\n",
    "df= full_df[personal_feats + other_feats + label]\n",
    "df= df.dropna()\n",
    "print('Dataset size: ', len(df))\n",
    "df.head()"
   ]
  },
  {
   "cell_type": "markdown",
   "metadata": {
    "papermill": {
     "duration": 0.005903,
     "end_time": "2020-08-19T19:16:00.093783",
     "exception": false,
     "start_time": "2020-08-19T19:16:00.087880",
     "status": "completed"
    },
    "tags": []
   },
   "source": [
    "We can also see that some of our features (columns) are numerical while others are categorical. For each of the categorical features, we'll see how many different levels there are and decide how we should encode these features."
   ]
  },
  {
   "cell_type": "code",
   "execution_count": 2,
   "metadata": {
    "execution": {
     "iopub.execute_input": "2020-08-19T19:16:00.115518Z",
     "iopub.status.busy": "2020-08-19T19:16:00.114540Z",
     "iopub.status.idle": "2020-08-19T19:16:01.130577Z",
     "shell.execute_reply": "2020-08-19T19:16:01.129864Z"
    },
    "papermill": {
     "duration": 1.031002,
     "end_time": "2020-08-19T19:16:01.130710",
     "exception": false,
     "start_time": "2020-08-19T19:16:00.099708",
     "status": "completed"
    },
    "tags": []
   },
   "outputs": [
    {
     "name": "stdout",
     "output_type": "stream",
     "text": [
      "Sex 2 \n",
      "\n",
      "Season 4 \n",
      "\n",
      "Koppen climate classification 4 \n",
      "\n",
      "Climate 4 \n",
      "\n",
      "City 4 \n",
      "\n",
      "Country 2 \n",
      "\n",
      "Building type 2 \n",
      "\n",
      "Cooling startegy_building level 1 \n",
      "\n",
      "Heating strategy_building level 1 \n",
      "\n"
     ]
    }
   ],
   "source": [
    "from sklearn.model_selection import train_test_split\n",
    "\n",
    "#define features and labels\n",
    "feats= df.loc[:, df.columns != label[0]]\n",
    "labs= df.loc[:, df.columns == label[0]]\n",
    "\n",
    "#create 90/10 train/test split\n",
    "x_train, x_test, y_train, y_test= train_test_split(feats, labs, test_size= 0.1, random_state= 0)\n",
    "\n",
    "#see how many different levels there are for each categorical feature\n",
    "categ_feats= feats.select_dtypes(include= ['category', object]).columns\n",
    "for i in categ_feats:\n",
    "    print(i, df[i].nunique(), '\\n')  "
   ]
  },
  {
   "cell_type": "code",
   "execution_count": 3,
   "metadata": {
    "execution": {
     "iopub.execute_input": "2020-08-19T19:16:01.174714Z",
     "iopub.status.busy": "2020-08-19T19:16:01.170309Z",
     "iopub.status.idle": "2020-08-19T19:16:01.184742Z",
     "shell.execute_reply": "2020-08-19T19:16:01.184130Z"
    },
    "papermill": {
     "duration": 0.03595,
     "end_time": "2020-08-19T19:16:01.184882",
     "exception": false,
     "start_time": "2020-08-19T19:16:01.148932",
     "status": "completed"
    },
    "tags": []
   },
   "outputs": [],
   "source": [
    "from sklearn.preprocessing import OneHotEncoder\n",
    "\n",
    "encoder= OneHotEncoder(handle_unknown= 'ignore', sparse= False)\n",
    "\n",
    "OH_feats= pd.DataFrame(encoder.fit_transform(feats[categ_feats])) #encode the categorical features\n",
    "OH_feats.columns = encoder.get_feature_names(categ_feats) #ensure encoded col names are meaningful\n",
    "OH_feats.index= feats.index #indices need to match in order to add one-hot encodings to original dataframe\n",
    "feats= feats.drop(categ_feats, axis= 1) #delete categorical cols from original dataframe\n",
    "feats= pd.concat([feats, OH_feats], axis= 1) \n",
    "\n",
    "#create 90/10 train/test split\n",
    "x_train, x_test, y_train, y_test= train_test_split(feats, labs, test_size= 0.1, random_state= 0)"
   ]
  },
  {
   "cell_type": "code",
   "execution_count": 4,
   "metadata": {
    "execution": {
     "iopub.execute_input": "2020-08-19T19:16:01.226633Z",
     "iopub.status.busy": "2020-08-19T19:16:01.225789Z",
     "iopub.status.idle": "2020-08-19T19:16:07.958491Z",
     "shell.execute_reply": "2020-08-19T19:16:07.957755Z"
    },
    "papermill": {
     "duration": 6.753505,
     "end_time": "2020-08-19T19:16:07.958631",
     "exception": false,
     "start_time": "2020-08-19T19:16:01.205126",
     "status": "completed"
    },
    "tags": []
   },
   "outputs": [
    {
     "name": "stdout",
     "output_type": "stream",
     "text": [
      "['Clo' 'Met' 'Subject«s height (cm)' 'Subject«s weight (kg)']\n"
     ]
    }
   ],
   "source": [
    "from sklearn.ensemble import RandomForestClassifier\n",
    "from sklearn.feature_selection import SelectFromModel\n",
    "\n",
    "def important_feats(x_train, y_train, x_test):\n",
    "    \"\"\"\n",
    "    Function that fits a random forest and extracts the importance weight from the forest for each feature to determine which features are most important\n",
    "    (Features with an importance weight greater than the median weight are most important)\n",
    "    \n",
    "    INPUTS: x_train is a pandas dataframe where each row is one example and each column is a feature (training data)\n",
    "    y_train is a pandas dataframe with the corresponding labels to each example in x_train\n",
    "    x_test is a pandas dataframe where each row is one example and each column is a feature (test data)\n",
    "    \n",
    "    OUTPUTS: x_train_new is the same as x_train except with only the most important features retained\n",
    "    x_test_new is the same as x_test except with only the most important features retained\n",
    "\n",
    "    \"\"\"\n",
    "    #define and fit tree\n",
    "    forest= RandomForestClassifier(n_estimators= 1000, random_state= 0)\n",
    "    forest.fit(x_train, np.ravel(y_train))\n",
    "\n",
    "    #select most important features\n",
    "    selector= SelectFromModel(forest, threshold= 'median')\n",
    "    selector.fit(x_train, np.ravel(y_train))\n",
    "    important_feats= np.array([]) #store the names of the most important features\n",
    "    for i in selector.get_support(indices= True):\n",
    "        important_feats= np.append(important_feats, x_train.columns[i])\n",
    "    \n",
    "    #return only the most important features (for both training and test sets)\n",
    "    x_train_new= pd.DataFrame(selector.transform(x_train), columns= important_feats)\n",
    "    x_test_new= pd.DataFrame(selector.transform(x_test), columns= important_feats)\n",
    "    \n",
    "    return important_feats, x_train_new, x_test_new\n",
    "\n",
    "\n",
    "#redefine the columns that are person-specific features (names are different now because of the one-hot encoding!)\n",
    "personal_feats= ['Sex_Female', 'Sex_Male', 'Age', 'Clo', 'Met', 'Subject«s height (cm)', 'Subject«s weight (kg)']\n",
    "\n",
    "#for forest that uses only person-specific features:\n",
    "x_train_personal= x_train.loc[:, personal_feats]\n",
    "x_test_personal= x_test.loc[:, personal_feats]\n",
    "\n",
    "#identify the most important person-specific features:\n",
    "personal_important_feats, x_train_personal_new, x_test_personal_new= important_feats(x_train_personal, y_train, x_test_personal)\n",
    "print(personal_important_feats)"
   ]
  },
  {
   "cell_type": "markdown",
   "metadata": {
    "papermill": {
     "duration": 0.00639,
     "end_time": "2020-08-19T19:16:07.971726",
     "exception": false,
     "start_time": "2020-08-19T19:16:07.965336",
     "status": "completed"
    },
    "tags": []
   },
   "source": [
    "**Therefore, when considering only person-specific features, the most important features for predicting thermal preference are Clo, Met, Subject height, and Subject weight. The values of these features are the most informative for predicting one's thermal preference.** For curiousity's sake, we'll train and evaluate a kNN model that uses only these features. First we'll do standardize the features such that each feature has a mean of 0 and unit variance. Just like the random forests, we'll use the default hyperparameter settings for this and all other kNN models. To evaluate the kNN model, we'll use the average recall for each class.\n",
    "\n",
    "# kNN - Personal features"
   ]
  },
  {
   "cell_type": "code",
   "execution_count": 5,
   "metadata": {
    "execution": {
     "iopub.execute_input": "2020-08-19T19:16:08.003574Z",
     "iopub.status.busy": "2020-08-19T19:16:08.002791Z",
     "iopub.status.idle": "2020-08-19T19:16:08.018418Z",
     "shell.execute_reply": "2020-08-19T19:16:08.017757Z"
    },
    "papermill": {
     "duration": 0.040442,
     "end_time": "2020-08-19T19:16:08.018565",
     "exception": false,
     "start_time": "2020-08-19T19:16:07.978123",
     "status": "completed"
    },
    "tags": []
   },
   "outputs": [
    {
     "name": "stdout",
     "output_type": "stream",
     "text": [
      "0.3700980392156863\n"
     ]
    }
   ],
   "source": [
    "from sklearn.preprocessing import StandardScaler\n",
    "from sklearn.neighbors import KNeighborsClassifier\n",
    "from sklearn.metrics import balanced_accuracy_score\n",
    "\n",
    "def train_eval_knn(x_train, y_train, x_test, y_test):\n",
    "    \"\"\"\n",
    "    Function that trains and tests a kNN multi-class classifier and returns the average recall on the test set\n",
    "    \n",
    "    INPUTS: x_train and x_test are 2D numpy arrays where each row is one example and each column is a feature,\n",
    "    y_train and y_test are pandas dataframes with the corresponding label for the examples in x_train/x_test\n",
    "    OUTPUT: test_recall is the average recall for the test set (single float value)\n",
    "    \"\"\"\n",
    "    knn= KNeighborsClassifier()\n",
    "    knn.fit(x_train, np.ravel(y_train))\n",
    "    #note: default settings on kNN uses the Euclidean distance as the distance metric and equally weights all examples\n",
    "    \n",
    "    test_predicts= knn.predict(x_test)\n",
    "    test_recall= balanced_accuracy_score(y_test, test_predicts)\n",
    "    \n",
    "    return test_recall\n",
    "\n",
    "#scale the training data so that all features have a mean of 0 and unit variance\n",
    "scaler= StandardScaler()\n",
    "x_train_personal_new= scaler.fit_transform(x_train_personal_new)\n",
    "\n",
    "#scale the test data using the mean and variance calculated from the training data\n",
    "x_test_personal_new= scaler.transform(x_test_personal_new)\n",
    "\n",
    "#train and test kNN that uses the most important person-specific features\n",
    "personal_recall= train_eval_knn(x_train_personal_new, y_train, x_test_personal_new, y_test)\n",
    "print(personal_recall)"
   ]
  },
  {
   "cell_type": "code",
   "execution_count": 6,
   "metadata": {
    "execution": {
     "iopub.execute_input": "2020-08-19T19:16:08.057923Z",
     "iopub.status.busy": "2020-08-19T19:16:08.056994Z",
     "iopub.status.idle": "2020-08-19T19:16:14.075871Z",
     "shell.execute_reply": "2020-08-19T19:16:14.075144Z"
    },
    "papermill": {
     "duration": 6.037824,
     "end_time": "2020-08-19T19:16:14.076011",
     "exception": false,
     "start_time": "2020-08-19T19:16:08.038187",
     "status": "completed"
    },
    "tags": []
   },
   "outputs": [
    {
     "name": "stdout",
     "output_type": "stream",
     "text": [
      "['Season_Spring' 'Season_Winter' 'Outdoor monthly air temperature (C)'\n",
      " 'Air temperature (C)' 'Season_Summer' 'Season_Autumn' 'Year' 'City_Delhi'\n",
      " 'Koppen climate classification_Cwa' 'Koppen climate classification_Cwb'\n",
      " 'Climate_Monsoon-influenced humid subtropical' 'City_Shimla'\n",
      " 'Climate_Subtropical highland']\n",
      "0.5898692810457516\n"
     ]
    }
   ],
   "source": [
    "#redefine the columns that are non-person-specific features (names are different now because of the one-hot encoding!)\n",
    "other_feats= set(x_train.columns) - set(personal_feats)\n",
    "\n",
    "#get training and test training sets that have only the non-person-specific features\n",
    "x_train_other= x_train.loc[:, other_feats]\n",
    "x_test_other= x_test.loc[:, other_feats]\n",
    "\n",
    "#identify the most important non-person-specific features:\n",
    "other_important_feats, x_train_other_new, x_test_other_new= important_feats(x_train_other, y_train, x_test_other)\n",
    "print(other_important_feats)\n",
    "\n",
    "#scale feature values before running kNN...\n",
    "x_train_other_new= scaler.fit_transform(x_train_other_new)\n",
    "x_test_other_new= scaler.transform(x_test_other_new)\n",
    "\n",
    "#train and test kNN that uses the most important non-person-specific features\n",
    "other_recall= train_eval_knn(x_train_other_new, y_train, x_test_other_new, y_test)\n",
    "print(other_recall)"
   ]
  },
  {
   "cell_type": "code",
   "execution_count": 7,
   "metadata": {
    "execution": {
     "iopub.execute_input": "2020-08-19T19:16:14.118073Z",
     "iopub.status.busy": "2020-08-19T19:16:14.116163Z",
     "iopub.status.idle": "2020-08-19T19:16:20.526689Z",
     "shell.execute_reply": "2020-08-19T19:16:20.527266Z"
    },
    "papermill": {
     "duration": 6.426416,
     "end_time": "2020-08-19T19:16:20.527463",
     "exception": false,
     "start_time": "2020-08-19T19:16:14.101047",
     "status": "completed"
    },
    "tags": []
   },
   "outputs": [
    {
     "name": "stdout",
     "output_type": "stream",
     "text": [
      "['Age' 'Clo' 'Met' 'Subject«s height (cm)' 'Subject«s weight (kg)' 'Year'\n",
      " 'Air temperature (C)' 'Outdoor monthly air temperature (C)' 'Sex_Female'\n",
      " 'Sex_Male' 'Season_Spring' 'Season_Summer' 'Season_Winter'\n",
      " 'Koppen climate classification_Cwa'\n",
      " 'Climate_Monsoon-influenced humid subtropical' 'City_Delhi']\n",
      "0.585239651416122\n",
      "0.5806100217864923\n"
     ]
    }
   ],
   "source": [
    "#identify the most important features:\n",
    "important_feats, x_train_new, x_test_new= important_feats(x_train, y_train, x_test)\n",
    "print(important_feats)\n",
    "\n",
    "#scale feature values before running kNN...\n",
    "x_train_new= scaler.fit_transform(x_train_new)\n",
    "x_test_new= scaler.transform(x_test_new)\n",
    "x_train= scaler.fit_transform(x_train)\n",
    "x_test= scaler.fit_transform(x_test)\n",
    "\n",
    "#train and test kNN that uses the most important features\n",
    "recall= train_eval_knn(x_train_new, y_train, x_test_new, y_test)\n",
    "print(recall)\n",
    "\n",
    "#train and test kNN that uses all of the features, not just the most important ones\n",
    "recall_allfeats= train_eval_knn(x_train, y_train, x_test, y_test)\n",
    "print(recall_allfeats)"
   ]
  },
  {
   "cell_type": "markdown",
   "metadata": {
    "papermill": {
     "duration": 0.006699,
     "end_time": "2020-08-19T19:16:20.541269",
     "exception": false,
     "start_time": "2020-08-19T19:16:20.534570",
     "status": "completed"
    },
    "tags": []
   },
   "source": [
    "**Therefore, when considering both person-specific and non-person-specific features, the most important features for predicting thermal preference are Age, Clo, Met, Subject height, Subject weight, Sex, Outdoor monthly air temperature, Climate, City, Season, and Koppen climate classification. The average recall using these most important features in a kNN model is ~0.58. Whether we use only these most important features or all of the features, we get almost the same average recall.** Since we get the same average recall either way, this means that the excluded features do not improve the model's predictive performance very much and don't need to be included. Future thermal comfort studies that will be added to the ASHRAE database can be designed in such a way so that these excluded features are not measured.\n",
    "\n",
    "# Conclusions\n",
    "The purpose of this notebook was to answer \"How do human and personal factors influence thermal comfort perception?\" using metadata from thermal comfort studies. When considering only person-specific features to predict thermal preference, the most important features to predict thermal preference are Clo, Met, Subject height, and Subject weight. **This suggests that these personal factors are the ones that most strongly influence thermal comfort perception.** However, these person-specific features are not the best to use to predict thermal preference. Instead, the non-person-specific features of Outdoor monthly air temperature, Climate, City, Koppen climate classification, Season, Air temperature, and Year yield the best average recall (~0.59) in a kNN model used to predict thermal preference. A kNN model that used these non-person-specific features performed better than a kNN model that used both person-specific and non-person-specific features, suggesting that environmental factors rather than personal factors most strongly influence thermal comfort perception.\n"
   ]
  }
 ],
 "metadata": {
  "kernelspec": {
   "display_name": "Python 3",
   "language": "python",
   "name": "python3"
  },
  "language_info": {
   "codemirror_mode": {
    "name": "ipython",
    "version": 3
   },
   "file_extension": ".py",
   "mimetype": "text/x-python",
   "name": "python",
   "nbconvert_exporter": "python",
   "pygments_lexer": "ipython3",
   "version": "3.7.6"
  },
  "papermill": {
   "duration": 27.708132,
   "end_time": "2020-08-19T19:16:20.656329",
   "environment_variables": {},
   "exception": null,
   "input_path": "__notebook__.ipynb",
   "output_path": "__notebook__.ipynb",
   "parameters": {},
   "start_time": "2020-08-19T19:15:52.948197",
   "version": "2.1.0"
  }
 },
 "nbformat": 4,
 "nbformat_minor": 4
}
